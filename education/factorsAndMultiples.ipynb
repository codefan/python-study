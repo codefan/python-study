{
 "cells": [
  {
   "cell_type": "code",
   "execution_count": 18,
   "metadata": {},
   "outputs": [],
   "source": [
    "def primeNumber(num):\n",
    "    pn = []\n",
    "    curP = 2\n",
    "    while curP<num :\n",
    "        i = 0\n",
    "        flag = True\n",
    "        while i < len(pn) and pn[i]*pn[i] <= curP:\n",
    "            if curP % pn[i] == 0 :\n",
    "                flag = False\n",
    "                break\n",
    "            i = i+1\n",
    "        if flag :\n",
    "            pn.append(curP)\n",
    "        curP = curP+1\n",
    "    return pn"
   ]
  },
  {
   "cell_type": "code",
   "execution_count": 19,
   "metadata": {},
   "outputs": [],
   "source": [
    "def checkSixDigit(num, n):\n",
    "    digit = [0,0,0,0,0,0,0,0,0,0]\n",
    "    for i in range(n):\n",
    "        digit[num % 10] =1\n",
    "        num = num // 10\n",
    "    return sum(digit)"
   ]
  },
  {
   "cell_type": "code",
   "execution_count": 20,
   "metadata": {},
   "outputs": [
    {
     "name": "stdout",
     "output_type": "stream",
     "text": [
      "3\n"
     ]
    }
   ],
   "source": [
    "print(checkSixDigit(123321,6) )"
   ]
  },
  {
   "cell_type": "code",
   "execution_count": null,
   "metadata": {},
   "outputs": [],
   "source": [
    "pn100 = primeNumber(1000000)\n",
    "pn6 = [x for x in pn100 if x>100000]"
   ]
  },
  {
   "cell_type": "code",
   "execution_count": 40,
   "metadata": {},
   "outputs": [],
   "source": [
    "def isPrimeNumber(num):\n",
    "    i = 0\n",
    "    while pn100[i] * pn100[i] <= num :\n",
    "        if num % pn100[i] == 0:\n",
    "            return False\n",
    "        i = i+1\n",
    "    return True"
   ]
  },
  {
   "cell_type": "code",
   "execution_count": 32,
   "metadata": {},
   "outputs": [],
   "source": [
    "def checkAllPrime(num):\n",
    "    if (num % 10 == 1) or (not isPrimeNumber(num % 10)):\n",
    "        return False\n",
    "    if not isPrimeNumber(num % 100):\n",
    "        return False\n",
    "    if not isPrimeNumber(num % 1000):\n",
    "        return False\n",
    "    if not isPrimeNumber(num % 10000):\n",
    "        return False\n",
    "    if not isPrimeNumber(num % 100000):\n",
    "        return False\n",
    "    for i in range(6):\n",
    "        if num % 10 == 0:\n",
    "            return False\n",
    "        num = num // 10\n",
    "    return True"
   ]
  },
  {
   "cell_type": "code",
   "execution_count": 42,
   "metadata": {},
   "outputs": [
    {
     "name": "stdout",
     "output_type": "stream",
     "text": [
      "[132647, 184523, 184967, 192347, 236947, 279613, 291367, 326947, 356197, 392467, 392647, 398467, 429137, 453617, 536947, 542683, 564937, 579283, 579613, 629137, 642953, 672953, 687523, 692347, 697523, 812347, 816547, 845197, 872953, 912647, 915683, 932647, 951283, 961283, 964283, 983617, 987523]\n"
     ]
    }
   ],
   "source": [
    "pnd = [ x for x in pn6 if checkSixDigit(x,6) ==6 ]\n",
    "allPN = [ x for x in pnd if checkAllPrime(x)]\n",
    "print(allPN)"
   ]
  },
  {
   "cell_type": "code",
   "execution_count": 41,
   "metadata": {},
   "outputs": [
    {
     "name": "stdout",
     "output_type": "stream",
     "text": [
      "False\n"
     ]
    }
   ],
   "source": [
    "print( isPrimeNumber(9))"
   ]
  },
  {
   "cell_type": "code",
   "execution_count": 43,
   "metadata": {},
   "outputs": [
    {
     "name": "stdout",
     "output_type": "stream",
     "text": [
      "37\n"
     ]
    }
   ],
   "source": [
    "print( len(allPN))"
   ]
  },
  {
   "cell_type": "code",
   "execution_count": null,
   "metadata": {},
   "outputs": [],
   "source": [
    "def numberDivisor(num):\n",
    "    nd = []\n",
    "    curP = 1\n",
    "    while curP<=num :\n",
    "        if num % curP == 0:\n",
    "            nd.append(curP)\n",
    "        curP = curP + 1\n",
    "    return nd"
   ]
  },
  {
   "cell_type": "code",
   "execution_count": null,
   "metadata": {},
   "outputs": [
    {
     "name": "stdout",
     "output_type": "stream",
     "text": [
      "[1, 2, 3, 4, 5, 6, 10, 12, 15, 20, 30, 60]\n"
     ]
    }
   ],
   "source": [
    "print (numberDivisor(60))"
   ]
  },
  {
   "cell_type": "code",
   "execution_count": null,
   "metadata": {},
   "outputs": [],
   "source": [
    "def numberDivisor2(num):\n",
    "    nd = []\n",
    "    curP = 1\n",
    "    while curP * curP <=num :\n",
    "        if num % curP == 0 :\n",
    "            nd.append(curP)\n",
    "            if curP != num // curP :\n",
    "                nd.append(num // curP)\n",
    "        curP = curP + 1\n",
    "    nd.sort()\n",
    "    return nd"
   ]
  },
  {
   "cell_type": "code",
   "execution_count": null,
   "metadata": {},
   "outputs": [
    {
     "name": "stdout",
     "output_type": "stream",
     "text": [
      "[1, 564937]\n"
     ]
    }
   ],
   "source": [
    "print (numberDivisor2(564937))"
   ]
  },
  {
   "cell_type": "code",
   "execution_count": null,
   "metadata": {},
   "outputs": [],
   "source": [
    "def primeDivisor(num):\n",
    "    pd = []\n",
    "    curP = 2\n",
    "    while curP<=num :\n",
    "        if num % curP == 0:\n",
    "            pd.append(curP)\n",
    "            num = num / curP\n",
    "        else:\n",
    "            curP = curP + 1\n",
    "    return pd"
   ]
  },
  {
   "cell_type": "code",
   "execution_count": null,
   "metadata": {},
   "outputs": [
    {
     "name": "stdout",
     "output_type": "stream",
     "text": [
      "[564937]\n"
     ]
    }
   ],
   "source": [
    "print (primeDivisor(564937))"
   ]
  },
  {
   "cell_type": "code",
   "execution_count": null,
   "metadata": {},
   "outputs": [],
   "source": [
    "def numberDivisor3(num):\n",
    "    pd = primeDivisor(num)\n",
    "    nd = [1]\n",
    "    for i in range(len(pd)):\n",
    "        for j in range(len(nd)):\n",
    "            nd.append(nd[j]*pd[i])\n",
    "    # nd = list(set(nd))\n",
    "    nd.sort()\n",
    "    return nd\n"
   ]
  },
  {
   "cell_type": "code",
   "execution_count": null,
   "metadata": {},
   "outputs": [
    {
     "name": "stdout",
     "output_type": "stream",
     "text": [
      "[1, 564937]\n"
     ]
    }
   ],
   "source": [
    "print( numberDivisor3(564937))"
   ]
  },
  {
   "cell_type": "code",
   "execution_count": null,
   "metadata": {},
   "outputs": [],
   "source": [
    "def greatestCommonDivisor(num1, num2):\n",
    "    i, j = 0, 0\n",
    "    pd1, pd2= primeDivisor(num1), primeDivisor(num2)\n",
    "    gcd = 1\n",
    "    while i<len(pd1) and j<len(pd2):\n",
    "        if pd1[i] == pd2[j]:\n",
    "            gcd = gcd * pd1[i]\n",
    "            i = i+1\n",
    "            j = j+1\n",
    "        elif pd1[i] < pd2[j]:\n",
    "            i = i+1\n",
    "        else :\n",
    "            j = j+1\n",
    "    return gcd"
   ]
  },
  {
   "cell_type": "code",
   "execution_count": null,
   "metadata": {},
   "outputs": [
    {
     "name": "stdout",
     "output_type": "stream",
     "text": [
      "[2, 2, 3, 5]\n",
      "[2, 3, 5, 5]\n",
      "30\n"
     ]
    }
   ],
   "source": [
    "print (primeDivisor(60))\n",
    "print (primeDivisor(150))\n",
    "print (greatestCommonDivisor(60,150))"
   ]
  },
  {
   "cell_type": "code",
   "execution_count": null,
   "metadata": {},
   "outputs": [],
   "source": [
    "def leastCommonMultiple(num1, num2):\n",
    "    i, j = 0, 0\n",
    "    pd1, pd2= primeDivisor(num1), primeDivisor(num2)\n",
    "    lcm = 1\n",
    "    while i<len(pd1) and j<len(pd2):\n",
    "        if pd1[i] == pd2[j]:\n",
    "            lcm = lcm * pd1[i]\n",
    "            i = i+1\n",
    "            j = j+1\n",
    "        elif pd1[i] < pd2[j]:\n",
    "            lcm = lcm * pd1[i]\n",
    "            i = i+1\n",
    "        else :\n",
    "            lcm = lcm * pd2[j]\n",
    "            j = j+1\n",
    "    while i<len(pd1):\n",
    "        lcm = lcm * pd1[i]\n",
    "        i = i+1\n",
    "    while j<len(pd2) :\n",
    "        lcm = lcm * pd2[j]\n",
    "        j = j+1\n",
    "    return lcm"
   ]
  },
  {
   "cell_type": "code",
   "execution_count": null,
   "metadata": {},
   "outputs": [
    {
     "name": "stdout",
     "output_type": "stream",
     "text": [
      "300\n"
     ]
    }
   ],
   "source": [
    "print (leastCommonMultiple(60,150))"
   ]
  },
  {
   "cell_type": "code",
   "execution_count": null,
   "metadata": {},
   "outputs": [],
   "source": [
    "def greatestCommonDivisor2(num1, num2):\n",
    "    if num1 < num2:\n",
    "        num1, num2 = num2, num1\n",
    "    while True:\n",
    "        if num1 % num2 == 0 :\n",
    "            return num2\n",
    "        num1, num2 = num2, num1 % num2\n"
   ]
  },
  {
   "cell_type": "code",
   "execution_count": null,
   "metadata": {},
   "outputs": [
    {
     "name": "stdout",
     "output_type": "stream",
     "text": [
      "30\n"
     ]
    }
   ],
   "source": [
    "print (greatestCommonDivisor2(60, 150))"
   ]
  },
  {
   "cell_type": "code",
   "execution_count": null,
   "metadata": {},
   "outputs": [],
   "source": [
    "def leastCommonMultiple2(num1, num2):\n",
    "    return num1 // greatestCommonDivisor2(num1, num2) * num2"
   ]
  },
  {
   "cell_type": "code",
   "execution_count": null,
   "metadata": {},
   "outputs": [
    {
     "name": "stdout",
     "output_type": "stream",
     "text": [
      "300\n"
     ]
    }
   ],
   "source": [
    "print (leastCommonMultiple2(60,150))"
   ]
  },
  {
   "cell_type": "code",
   "execution_count": null,
   "metadata": {},
   "outputs": [],
   "source": [
    "import tkinter;\n"
   ]
  },
  {
   "cell_type": "code",
   "execution_count": null,
   "metadata": {},
   "outputs": [],
   "source": []
  }
 ],
 "metadata": {
  "file_extension": ".py",
  "kernelspec": {
   "display_name": "Python 3.8.8 ('base')",
   "language": "python",
   "name": "python3"
  },
  "language_info": {
   "codemirror_mode": {
    "name": "ipython",
    "version": 3
   },
   "file_extension": ".py",
   "mimetype": "text/x-python",
   "name": "python",
   "nbconvert_exporter": "python",
   "pygments_lexer": "ipython3",
   "version": "3.8.8"
  },
  "metadata": {
   "interpreter": {
    "hash": "31f2aee4e71d21fbe5cf8b01ff0e069b9275f58929596ceb00d14d90e3e16cd6"
   }
  },
  "mimetype": "text/x-python",
  "name": "python",
  "npconvert_exporter": "python",
  "orig_nbformat": 2,
  "pygments_lexer": "ipython3",
  "version": 3,
  "vscode": {
   "interpreter": {
    "hash": "ad2bdc8ecc057115af97d19610ffacc2b4e99fae6737bb82f5d7fb13d2f2c186"
   }
  }
 },
 "nbformat": 4,
 "nbformat_minor": 2
}
