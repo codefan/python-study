{
 "cells": [
  {
   "cell_type": "code",
   "execution_count": 1,
   "metadata": {},
   "outputs": [],
   "source": [
    "# 逻辑电路设置，X输入向量，1表示高电位 true， 0 表示低电位 false; W为调节阈值，通过不同的调试可以实现 与或非 和 与非门\n",
    "# 这个页面中除了调试相关的方法，所有的逻辑运算（与、或、非、与非、异或）都是通过这个单一的逻辑单元电路实现的\n",
    "# 实现加减乘除法 还需要以下几个功能\n",
    "#   1， 用一组逻辑单元来表示一个二进制数，程序中用长度位16的数组来表示16位的二进制数\n",
    "#   2， 需要实现移位操作，这个在电路中也是比较容易实现的\n",
    "#   3， 重复操作，对应的语句 for range(16) ，实际的电路就是要一个 16组的逻辑门\n",
    "#   4， 计算机还需要一个条件跳转指令，goto when 0/1 这个暂时没有用到\n",
    "def logicalGate(X, W):\n",
    "    return 1 if X[0]*W[0] + X[1]*W[1] + X[2]*W[2] > 0 else 0"
   ]
  },
  {
   "cell_type": "code",
   "execution_count": 2,
   "metadata": {},
   "outputs": [],
   "source": [
    "# 与门 输入电位 减半叠加 和 0.75相比来判断是否为 高低电位\n",
    "# 输入的取值 只能是 0 或者 1 ，返回结果也只是 0 或者 1\n",
    "def AND(x1, x2):\n",
    "    return logicalGate([1,x1,x2], [-0.75, 0.5, 0.5])"
   ]
  },
  {
   "cell_type": "code",
   "execution_count": 3,
   "metadata": {},
   "outputs": [],
   "source": [
    "# 或门 输入电位 减半叠加 和 0.25 相比\n",
    "def OR(x1, x2):\n",
    "    return logicalGate([1,x1,x2], [-0.25, 0.5, 0.5])"
   ]
  },
  {
   "cell_type": "code",
   "execution_count": 4,
   "metadata": {},
   "outputs": [],
   "source": [
    "# 非门 输入电位 反向减半加倍 和 -0.75 相比\n",
    "def NOT(x1):\n",
    "    return logicalGate([1,x1,x1], [0.75, -0.5, -0.5])"
   ]
  },
  {
   "cell_type": "code",
   "execution_count": 5,
   "metadata": {},
   "outputs": [],
   "source": [
    "# 与非门 非门 输入电位 反向减半叠加 和 -0.75 相比\n",
    "def NAND(x1, x2):\n",
    "    return logicalGate([1,x1,x2], [0.75, -0.5, -0.5])"
   ]
  },
  {
   "cell_type": "code",
   "execution_count": 6,
   "metadata": {},
   "outputs": [],
   "source": [
    "# 异或门 无法直接用单个感知器来实现，\n",
    "def XOR(x1, x2):\n",
    "    return AND(OR(x1,x2),NAND(x1,x2))"
   ]
  },
  {
   "cell_type": "code",
   "execution_count": 7,
   "metadata": {},
   "outputs": [
    {
     "data": {
      "text/plain": [
       "(1, 0)"
      ]
     },
     "execution_count": 7,
     "metadata": {},
     "output_type": "execute_result"
    }
   ],
   "source": [
    "#测试单目运算\n",
    "NOT(0),NOT(1)"
   ]
  },
  {
   "cell_type": "code",
   "execution_count": 8,
   "metadata": {},
   "outputs": [],
   "source": [
    "# 测试其他的逻辑运算\n",
    "def testGate(gates) :\n",
    "    ret = []\n",
    "    for x1 in range(2):\n",
    "        for x2 in range(2): \n",
    "            item = []\n",
    "            for gate in gates :\n",
    "                item.append(gate(x1,x2))\n",
    "            ret.append(item)\n",
    "    return ret"
   ]
  },
  {
   "cell_type": "code",
   "execution_count": 9,
   "metadata": {},
   "outputs": [],
   "source": [
    "# 显示测试结果\n",
    "def printTestRet(ret):\n",
    "    print ( 'x1\\tx2\\tand\\tor\\tnand\\txor' )\n",
    "    for x1 in range(2):\n",
    "        for x2 in range(2):\n",
    "            print(x1, '\\t', x2, end ='\\t')\n",
    "            for i in range(4):\n",
    "                print(ret[x1*2+x2][i], end = '\\t' )\n",
    "            print()"
   ]
  },
  {
   "cell_type": "code",
   "execution_count": 10,
   "metadata": {},
   "outputs": [
    {
     "name": "stdout",
     "output_type": "stream",
     "text": [
      "x1\tx2\tand\tor\tnand\txor\n",
      "0 \t 0\t0\t0\t1\t0\t\n",
      "0 \t 1\t0\t1\t1\t1\t\n",
      "1 \t 0\t0\t1\t1\t1\t\n",
      "1 \t 1\t1\t1\t0\t0\t\n"
     ]
    }
   ],
   "source": [
    "printTestRet(testGate([AND,OR,NAND,XOR]))"
   ]
  },
  {
   "cell_type": "code",
   "execution_count": 11,
   "metadata": {},
   "outputs": [],
   "source": [
    "# 用与非门 实现 与门\n",
    "def AND2(x1, x2):\n",
    "    return NAND(NAND(x1,x2), NAND(x1,x2) )"
   ]
  },
  {
   "cell_type": "code",
   "execution_count": 12,
   "metadata": {},
   "outputs": [],
   "source": [
    "# 用与非门 实现 或门\n",
    "def OR2(x1, x2):\n",
    "    return NAND(NAND(x1,x1), NAND(x2,x2) )"
   ]
  },
  {
   "cell_type": "code",
   "execution_count": 13,
   "metadata": {},
   "outputs": [],
   "source": [
    "# 用与非门 实现 非门\n",
    "def NOT2(x1):\n",
    "    return NAND(x1,x1)"
   ]
  },
  {
   "cell_type": "code",
   "execution_count": 14,
   "metadata": {},
   "outputs": [],
   "source": [
    "# 用与非门 实现 与非门 ，就是本身\n",
    "def NAND2(x1, x2):\n",
    "    return NAND(x1, x2 )"
   ]
  },
  {
   "cell_type": "code",
   "execution_count": 15,
   "metadata": {},
   "outputs": [],
   "source": [
    "# 用与非门 实现 异或门\n",
    "def XOR2(x1, x2):\n",
    "    return NAND(NAND(x1, NAND(x2,x2) ), NAND(NAND(x1,x1),x2) )"
   ]
  },
  {
   "cell_type": "code",
   "execution_count": 16,
   "metadata": {},
   "outputs": [
    {
     "data": {
      "text/plain": [
       "(1, 0)"
      ]
     },
     "execution_count": 16,
     "metadata": {},
     "output_type": "execute_result"
    }
   ],
   "source": [
    "NOT2(0),NOT2(1)"
   ]
  },
  {
   "cell_type": "code",
   "execution_count": 17,
   "metadata": {},
   "outputs": [
    {
     "name": "stdout",
     "output_type": "stream",
     "text": [
      "x1\tx2\tand\tor\tnand\txor\n",
      "0 \t 0\t0\t0\t1\t0\t\n",
      "0 \t 1\t0\t1\t1\t1\t\n",
      "1 \t 0\t0\t1\t1\t1\t\n",
      "1 \t 1\t1\t1\t0\t0\t\n"
     ]
    }
   ],
   "source": [
    "printTestRet(testGate([AND2,OR2,NAND2,XOR2]))"
   ]
  },
  {
   "cell_type": "code",
   "execution_count": 18,
   "metadata": {},
   "outputs": [],
   "source": [
    "def XOR1(x1, x2):\n",
    "    return AND(OR(x1,x2),NOT(AND(x1,x2)))"
   ]
  },
  {
   "cell_type": "code",
   "execution_count": 19,
   "metadata": {},
   "outputs": [
    {
     "name": "stdout",
     "output_type": "stream",
     "text": [
      "(0, 0) -> 0\n",
      "(1, 0) -> 1\n",
      "(0, 1) -> 1\n",
      "(1, 1) -> 0\n"
     ]
    }
   ],
   "source": [
    "for xs in [(0, 0), (1, 0), (0, 1), (1, 1)]:\n",
    "    y = XOR1(xs[0], xs[1])\n",
    "    print(str(xs) + \" -> \" + str(y))"
   ]
  },
  {
   "cell_type": "code",
   "execution_count": 20,
   "metadata": {},
   "outputs": [],
   "source": [
    "# 半加器的实现\n",
    "# 返回 结果 和 进位\n",
    "def halfAdd(x1, x2):\n",
    "    return (XOR(x1, x2), AND(x1, x2))"
   ]
  },
  {
   "cell_type": "code",
   "execution_count": 21,
   "metadata": {},
   "outputs": [],
   "source": [
    "# 全加器，只能实现一位二进制相加，x1, x2是两个加数， carryBit 进位\n",
    "# 返回 结果 和 进位\n",
    "def fullAdd(x1, x2, carryBit):\n",
    "    s, co = halfAdd(x1, x2)\n",
    "    s, co2 = halfAdd(carryBit, s)\n",
    "    return (s, OR(co, co2))"
   ]
  },
  {
   "cell_type": "code",
   "execution_count": 22,
   "metadata": {},
   "outputs": [
    {
     "name": "stdout",
     "output_type": "stream",
     "text": [
      "(0, 0, 0) -> (0, 0)\n",
      "(1, 0, 0) -> (1, 0)\n",
      "(0, 1, 0) -> (1, 0)\n",
      "(1, 1, 0) -> (0, 1)\n",
      "(0, 0, 1) -> (1, 0)\n",
      "(1, 0, 1) -> (0, 1)\n",
      "(0, 1, 1) -> (0, 1)\n",
      "(1, 1, 1) -> (1, 1)\n"
     ]
    }
   ],
   "source": [
    "for xs in [(0, 0, 0), (1, 0, 0), (0, 1, 0), (1, 1, 0), (0, 0, 1), (1, 0, 1), (0, 1, 1), (1, 1, 1)]:\n",
    "    y = fullAdd(xs[0], xs[1], xs[2])\n",
    "    print(str(xs) + \" -> \" + str(y))"
   ]
  },
  {
   "cell_type": "code",
   "execution_count": 23,
   "metadata": {},
   "outputs": [],
   "source": [
    "# 16位二进制 0\n",
    "def ZERO16BIT():\n",
    "    v16bit =[]\n",
    "    for i in range(16):\n",
    "        v16bit.append(0)\n",
    "    return v16bit"
   ]
  },
  {
   "cell_type": "code",
   "execution_count": 24,
   "metadata": {},
   "outputs": [],
   "source": [
    "# 16位二进制相加， co 为是否进位标志\n",
    "# 最高位15位为正负号 负数\n",
    "# 返回结果 \n",
    "def add16Bit(a16bit, b16bit, co=0):\n",
    "    v16bit = ZERO16BIT()\n",
    "    for i in range(16):\n",
    "        (d, co) = fullAdd(a16bit[i], b16bit[i], co)\n",
    "        v16bit[i] = d\n",
    "    # co>0 溢出\n",
    "    return v16bit"
   ]
  },
  {
   "cell_type": "code",
   "execution_count": 25,
   "metadata": {},
   "outputs": [],
   "source": [
    "# 整数编码器 辅助方法，用数组来表示 16位数\n",
    "def to16bit(x):\n",
    "    (sign, d) = (1, x+65536) if x<0 else (0, x)\n",
    "    # d = x\n",
    "    v16bit =ZERO16BIT()\n",
    "    for i in range(16):\n",
    "        v16bit[i] = d % 2\n",
    "        d = d // 2\n",
    "    v16bit[15] = sign\n",
    "    return v16bit"
   ]
  },
  {
   "cell_type": "code",
   "execution_count": 26,
   "metadata": {},
   "outputs": [],
   "source": [
    "# 整数解码器 辅助方法，将16位数数组 转换为整数\n",
    "def from16bit(a16bit):\n",
    "    d=0\n",
    "    for i in range(15,-1,-1):\n",
    "        d = d * 2 + a16bit[i]\n",
    "    return (d-65536) if a16bit[15] > 0  else d\n",
    "        "
   ]
  },
  {
   "cell_type": "code",
   "execution_count": 27,
   "metadata": {},
   "outputs": [],
   "source": [
    "# 加法的实现\n",
    "def add(a, b):     \n",
    "    return from16bit(add16Bit(to16bit(a), to16bit(b)))"
   ]
  },
  {
   "cell_type": "code",
   "execution_count": 28,
   "metadata": {},
   "outputs": [
    {
     "data": {
      "text/plain": [
       "(14, -1, 2, -13)"
      ]
     },
     "execution_count": 28,
     "metadata": {},
     "output_type": "execute_result"
    }
   ],
   "source": [
    "add(6,8), add(6,-7), add(9,-7), add(-6,-7)"
   ]
  },
  {
   "cell_type": "code",
   "execution_count": 29,
   "metadata": {},
   "outputs": [
    {
     "data": {
      "text/plain": [
       "(0, 32767, 32767, -12, 24)"
      ]
     },
     "execution_count": 29,
     "metadata": {},
     "output_type": "execute_result"
    }
   ],
   "source": [
    "#溢出测试\n",
    "add(65536, 0), add(65536, 65535), add(0, 65535), add(65530, 65530), add(32780, 32780)"
   ]
  },
  {
   "cell_type": "code",
   "execution_count": 30,
   "metadata": {},
   "outputs": [],
   "source": [
    "# 16位数的补码，就是每一位取反， 但是最低为没有+1\n",
    "def complement(a16bit):\n",
    "    v16bit = ZERO16BIT()\n",
    "    for i in range(16):\n",
    "        v16bit[i] = NOT(a16bit[i])\n",
    "    return v16bit"
   ]
  },
  {
   "cell_type": "code",
   "execution_count": 31,
   "metadata": {},
   "outputs": [],
   "source": [
    "# 16位数的减法实现\n",
    "def sub16Bit(a16bit, b16bit): \n",
    "    return add16Bit(a16bit, complement(b16bit), 1)"
   ]
  },
  {
   "cell_type": "code",
   "execution_count": 32,
   "metadata": {},
   "outputs": [],
   "source": [
    "def sub(a, b):\n",
    "    return from16bit(sub16Bit(to16bit(a), to16bit(b)))"
   ]
  },
  {
   "cell_type": "code",
   "execution_count": 33,
   "metadata": {},
   "outputs": [
    {
     "data": {
      "text/plain": [
       "(13, -20, 22, 20, -20)"
      ]
     },
     "execution_count": 33,
     "metadata": {},
     "output_type": "execute_result"
    }
   ],
   "source": [
    "sub(32, 19), sub(12, 32), sub(12, -10), sub(-12, -32), sub(-42, -22)"
   ]
  },
  {
   "cell_type": "code",
   "execution_count": 34,
   "metadata": {},
   "outputs": [],
   "source": [
    "# 模拟 左移位操作\n",
    "def shitRight(a16bit, shiftBits = 1):\n",
    "    v16bit = ZERO16BIT()\n",
    "    for i in range(shiftBits, 16):\n",
    "        v16bit[i] = a16bit[i -shiftBits]\n",
    "    return v16bit"
   ]
  },
  {
   "cell_type": "code",
   "execution_count": 35,
   "metadata": {},
   "outputs": [],
   "source": [
    "# 模拟 左移位操作\n",
    "def shiftLeft(a16bit, shiftBits = 1):\n",
    "    v16bit = ZERO16BIT()\n",
    "    for i in range(16 - shiftBits):\n",
    "        v16bit[i] = a16bit[i+shiftBits]\n",
    "    return v16bit"
   ]
  },
  {
   "cell_type": "code",
   "execution_count": 36,
   "metadata": {},
   "outputs": [
    {
     "data": {
      "text/plain": [
       "(6, 24)"
      ]
     },
     "execution_count": 36,
     "metadata": {},
     "output_type": "execute_result"
    }
   ],
   "source": [
    "from16bit(shiftLeft(to16bit(12))), from16bit(shitRight(to16bit(12)))"
   ]
  },
  {
   "cell_type": "code",
   "execution_count": 37,
   "metadata": {},
   "outputs": [],
   "source": [
    "# 逐位与 可以用 if 语句代替 a16bit if x>0 else 0\n",
    "def AND16BIT1BIT(a16bit, x):\n",
    "    v16bit = ZERO16BIT()\n",
    "    for i in range(16):\n",
    "       v16bit[i] = AND(a16bit[i], x)\n",
    "    return v16bit"
   ]
  },
  {
   "cell_type": "code",
   "execution_count": 38,
   "metadata": {},
   "outputs": [],
   "source": [
    "# 16位数的乘法实现\n",
    "# 不考虑溢出情况\n",
    "def multi16Bit(a16bit, b16bit): \n",
    "    v16bit = ZERO16BIT()\n",
    "    for i in range(16):\n",
    "        v16bit = add16Bit(v16bit, AND16BIT1BIT(a16bit, b16bit[i]))\n",
    "        a16bit = shitRight(a16bit)\n",
    "    return v16bit"
   ]
  },
  {
   "cell_type": "code",
   "execution_count": 39,
   "metadata": {},
   "outputs": [],
   "source": [
    "def multi(a, b):\n",
    "    return from16bit(multi16Bit(to16bit(a), to16bit(b)))"
   ]
  },
  {
   "cell_type": "code",
   "execution_count": 40,
   "metadata": {},
   "outputs": [
    {
     "data": {
      "text/plain": [
       "(63, -55, -119, 323)"
      ]
     },
     "execution_count": 40,
     "metadata": {},
     "output_type": "execute_result"
    }
   ],
   "source": [
    "multi(7, 9), multi(11, -5), multi(-7, 17), multi(-17, -19)"
   ]
  },
  {
   "cell_type": "code",
   "execution_count": 41,
   "metadata": {},
   "outputs": [
    {
     "data": {
      "text/plain": [
       "(0, -511, -30467, -1024)"
      ]
     },
     "execution_count": 41,
     "metadata": {},
     "output_type": "execute_result"
    }
   ],
   "source": [
    "#溢出测试\n",
    "multi(16384, 16384), multi(255, 255), multi(337, 493), multi(1024, 255), "
   ]
  },
  {
   "cell_type": "code",
   "execution_count": 42,
   "metadata": {},
   "outputs": [],
   "source": [
    "# 检查正负号，最高位 1 表示负，最高位 0 表示正\n",
    "# 返回 1 表示正 0 表示 负\n",
    "def checkSign(a16bit):\n",
    "    return NOT(a16bit[15])"
   ]
  },
  {
   "cell_type": "code",
   "execution_count": 43,
   "metadata": {},
   "outputs": [
    {
     "data": {
      "text/plain": [
       "0"
      ]
     },
     "execution_count": 43,
     "metadata": {},
     "output_type": "execute_result"
    }
   ],
   "source": [
    "# 比较大小 1 a>=b, 0 a<b\n",
    "checkSign(sub16Bit(to16bit(5), to16bit(7)))"
   ]
  },
  {
   "cell_type": "code",
   "execution_count": 44,
   "metadata": {},
   "outputs": [],
   "source": [
    "# 求16位数的相反数\n",
    "def oppositeNumber(a16bit):\n",
    "    return add16Bit(complement(a16bit), to16bit(1))\n"
   ]
  },
  {
   "cell_type": "code",
   "execution_count": 45,
   "metadata": {},
   "outputs": [
    {
     "data": {
      "text/plain": [
       "(5, -6)"
      ]
     },
     "execution_count": 45,
     "metadata": {},
     "output_type": "execute_result"
    }
   ],
   "source": [
    "from16bit(oppositeNumber(to16bit(-5))), from16bit(oppositeNumber(to16bit(6)))"
   ]
  },
  {
   "cell_type": "code",
   "execution_count": 46,
   "metadata": {},
   "outputs": [],
   "source": [
    "# 实现 a16bit if cond else b16bit\n",
    "def NVL(cond, a16bit, b16bit):\n",
    "    return add16Bit(AND16BIT1BIT(a16bit, cond), AND16BIT1BIT(b16bit, NOT(cond)))"
   ]
  },
  {
   "cell_type": "code",
   "execution_count": 47,
   "metadata": {},
   "outputs": [],
   "source": [
    "# 16位数 正整数的除法实现\n",
    "# 返回 结果和余数\n",
    "def div16BitPositive(a16bit, b16bit): \n",
    "    div16bit = ZERO16BIT() # 被除数，也是最后的余数\n",
    "    v16bit = ZERO16BIT()\n",
    "    for i in range(15, -1, -1):\n",
    "        div16bit = shitRight(div16bit)\n",
    "        v16bit = shitRight(v16bit)\n",
    "        div16bit[0] = a16bit[i]\n",
    "        stepV = sub16Bit(div16bit, b16bit)\n",
    "        v16bit[0] = checkSign(stepV)\n",
    "        # print (from16bit(div16bit), from16bit(v16bit), from16bit(stepV) ,  v16bit[0])\n",
    "        # 下面这行可以用一个 if语句\n",
    "        # div16bit = stepV if v16bit[0] > 0 else div16bit\n",
    "        # add16Bit(AND16BIT1BIT(div16bit, NOT(v16bit[0])), AND16BIT1BIT(stepV, v16bit[0]))\n",
    "        div16bit = NVL(v16bit[0], stepV, div16bit)\n",
    "    return (v16bit, div16bit)"
   ]
  },
  {
   "cell_type": "code",
   "execution_count": 48,
   "metadata": {},
   "outputs": [],
   "source": [
    "# 16位数的除法实现\n",
    "# 除法需要考虑正负号的影响\n",
    "# 返回 结果和余数\n",
    "def div16Bit(a16bit, b16bit): \n",
    "    aSign = checkSign(a16bit)\n",
    "    bSign = checkSign(b16bit)\n",
    "    # 取绝对值\n",
    "    va16bit = NVL(aSign, a16bit,  oppositeNumber(a16bit)) \n",
    "    vb16bit = NVL(bSign, b16bit,  oppositeNumber(b16bit))\n",
    "    (c, d) = div16BitPositive(va16bit, vb16bit)\n",
    "    c = NVL(XOR(aSign, bSign), oppositeNumber(c), c)\n",
    "    d = NVL(aSign, d, oppositeNumber(d))\n",
    "    return (c,d)"
   ]
  },
  {
   "cell_type": "code",
   "execution_count": 49,
   "metadata": {},
   "outputs": [],
   "source": [
    "def div(a, b):\n",
    "    (c,d) = (div16Bit(to16bit(a), to16bit(b)))\n",
    "    return (from16bit(c), from16bit(d))"
   ]
  },
  {
   "cell_type": "code",
   "execution_count": 50,
   "metadata": {},
   "outputs": [
    {
     "data": {
      "text/plain": [
       "((3, 30), (-3, 30), (-3, -30), (3, -30))"
      ]
     },
     "execution_count": 50,
     "metadata": {},
     "output_type": "execute_result"
    }
   ],
   "source": [
    "div(126, 32), div(126, -32), div(-126, 32), div(-126, -32)"
   ]
  },
  {
   "cell_type": "code",
   "execution_count": 51,
   "metadata": {},
   "outputs": [
    {
     "data": {
      "text/plain": [
       "((-1, 1), (-1, 0), (1, -7), (-1, 139))"
      ]
     },
     "execution_count": 51,
     "metadata": {},
     "output_type": "execute_result"
    }
   ],
   "source": [
    "#除0测试\n",
    "div(1, 0), div(0, 0), div(-7, 0), div(139, 0)"
   ]
  },
  {
   "cell_type": "code",
   "execution_count": 52,
   "metadata": {},
   "outputs": [],
   "source": [
    "# 实现逻辑操作 判断相等\n",
    "# 1 表示 true 0 表示 false\n",
    "def equal16Bit(a16bit, b16bit):\n",
    "    v = 0\n",
    "    for i in range(16):\n",
    "        v = OR(v, XOR(a16bit[i], b16bit[i]))\n",
    "    return NOT(v)"
   ]
  },
  {
   "cell_type": "code",
   "execution_count": 53,
   "metadata": {},
   "outputs": [],
   "source": [
    "def equal(a, b):\n",
    "    return equal16Bit(to16bit(a), to16bit(b))"
   ]
  },
  {
   "cell_type": "code",
   "execution_count": 54,
   "metadata": {},
   "outputs": [
    {
     "data": {
      "text/plain": [
       "(0, 1, 1, 1, 1)"
      ]
     },
     "execution_count": 54,
     "metadata": {},
     "output_type": "execute_result"
    }
   ],
   "source": [
    "equal(1,2), equal(65536,0), equal(1,1), equal(0,0), equal(-3, -3)"
   ]
  },
  {
   "cell_type": "code",
   "execution_count": 55,
   "metadata": {},
   "outputs": [],
   "source": [
    "# 实现其他逻辑比较操作\n",
    "def bigEqual16Bit(a16bit, b16bit):\n",
    "    return checkSign(sub16Bit(a16bit, b16bit))\n",
    "\n",
    "def littleEqual16BIt(a16bit, b16bit):\n",
    "    return checkSign(sub16Bit(b16bit, a16bit))\n",
    "\n",
    "def big16Bit(a16bit, b16bit):\n",
    "    return AND(bigEqual16Bit(a16bit, b16bit), NOT(equal16Bit(a16bit, b16bit)))\n",
    "\n",
    "def little16Bit(a16bit, b16bit):\n",
    "    return AND(littleEqual16BIt(a16bit, b16bit), NOT(equal16Bit(a16bit, b16bit)))"
   ]
  },
  {
   "cell_type": "code",
   "execution_count": 56,
   "metadata": {},
   "outputs": [],
   "source": [
    "def bigEqual(a, b):\n",
    "    return bigEqual16Bit(to16bit(a), to16bit(b))\n",
    "\n",
    "def littleEqual(a, b):\n",
    "    return littleEqual16BIt(to16bit(a), to16bit(b))\n",
    "\n",
    "def big(a, b):\n",
    "    return big16Bit(to16bit(a), to16bit(b))\n",
    "\n",
    "def little(a, b):\n",
    "    return little16Bit(to16bit(a), to16bit(b))"
   ]
  },
  {
   "cell_type": "code",
   "execution_count": 57,
   "metadata": {},
   "outputs": [
    {
     "name": "stdout",
     "output_type": "stream",
     "text": [
      "1 1 1 0 0\n",
      "0 1 0 1 1\n",
      "1 0 1 0 0\n",
      "0 0 0 1 1\n"
     ]
    }
   ],
   "source": [
    "print(bigEqual(3, 2), bigEqual(3, 3), bigEqual(-3, -4), bigEqual(-4, 3), bigEqual(-4, -3))\n",
    "print(littleEqual(3, 2), littleEqual(3, 3), littleEqual(-3, -4), littleEqual(-4, 3), littleEqual(-4, -3))\n",
    "print(big(3, 2), big(3, 3), big(-3, -4), big(-4, 3), big(-4, -3))\n",
    "print(little(3, 2), little(3, 3), little(-3, -4), little(-4, 3), little(-4, -3))"
   ]
  }
 ],
 "metadata": {
  "kernelspec": {
   "display_name": "Python 3",
   "language": "python",
   "name": "python3"
  },
  "language_info": {
   "codemirror_mode": {
    "name": "ipython",
    "version": 3
   },
   "file_extension": ".py",
   "mimetype": "text/x-python",
   "name": "python",
   "nbconvert_exporter": "python",
   "pygments_lexer": "ipython3",
   "version": "3.8.8"
  }
 },
 "nbformat": 4,
 "nbformat_minor": 2
}
